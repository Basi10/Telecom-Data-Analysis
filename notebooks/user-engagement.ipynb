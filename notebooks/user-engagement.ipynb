{
 "cells": [
  {
   "cell_type": "code",
   "execution_count": 22,
   "metadata": {},
   "outputs": [],
   "source": [
    "import os\n",
    "import sys\n",
    "import pandas as pd \n",
    "import matplotlib.pyplot as plt\n",
    "import seaborn as sns"
   ]
  },
  {
   "cell_type": "code",
   "execution_count": 23,
   "metadata": {},
   "outputs": [],
   "source": [
    "rpath = os.path.abspath('..')\n",
    "if rpath not in sys.path:\n",
    "    sys.path.insert(0,rpath)\n",
    "from src.plots import Plot"
   ]
  },
  {
   "cell_type": "code",
   "execution_count": 24,
   "metadata": {},
   "outputs": [],
   "source": [
    "df = pd.read_csv('../data/cleaned_data_outliers.csv')"
   ]
  },
  {
   "cell_type": "code",
   "execution_count": 25,
   "metadata": {},
   "outputs": [
    {
     "data": {
      "text/html": [
       "<div>\n",
       "<style scoped>\n",
       "    .dataframe tbody tr th:only-of-type {\n",
       "        vertical-align: middle;\n",
       "    }\n",
       "\n",
       "    .dataframe tbody tr th {\n",
       "        vertical-align: top;\n",
       "    }\n",
       "\n",
       "    .dataframe thead th {\n",
       "        text-align: right;\n",
       "    }\n",
       "</style>\n",
       "<table border=\"1\" class=\"dataframe\">\n",
       "  <thead>\n",
       "    <tr style=\"text-align: right;\">\n",
       "      <th></th>\n",
       "      <th>Bearer Id</th>\n",
       "      <th>Start</th>\n",
       "      <th>Start ms</th>\n",
       "      <th>End</th>\n",
       "      <th>End ms</th>\n",
       "      <th>Dur. (ms)</th>\n",
       "      <th>IMSI</th>\n",
       "      <th>MSISDN/Number</th>\n",
       "      <th>IMEI</th>\n",
       "      <th>Last Location Name</th>\n",
       "      <th>...</th>\n",
       "      <th>Youtube DL (Bytes)</th>\n",
       "      <th>Youtube UL (Bytes)</th>\n",
       "      <th>Netflix DL (Bytes)</th>\n",
       "      <th>Netflix UL (Bytes)</th>\n",
       "      <th>Gaming DL (Bytes)</th>\n",
       "      <th>Gaming UL (Bytes)</th>\n",
       "      <th>Other DL (Bytes)</th>\n",
       "      <th>Other UL (Bytes)</th>\n",
       "      <th>Total UL (Bytes)</th>\n",
       "      <th>Total DL (Bytes)</th>\n",
       "    </tr>\n",
       "  </thead>\n",
       "  <tbody>\n",
       "    <tr>\n",
       "      <th>0</th>\n",
       "      <td>1.311448e+19</td>\n",
       "      <td>4/4/2019 12:01</td>\n",
       "      <td>770.0</td>\n",
       "      <td>4/25/2019 14:35</td>\n",
       "      <td>662.0</td>\n",
       "      <td>14.416352</td>\n",
       "      <td>32.969527</td>\n",
       "      <td>3.366496e+10</td>\n",
       "      <td>3.552121e+13</td>\n",
       "      <td>9.16456699548519E+015</td>\n",
       "      <td>...</td>\n",
       "      <td>16.578971</td>\n",
       "      <td>14.732334</td>\n",
       "      <td>15.919515</td>\n",
       "      <td>16.083116</td>\n",
       "      <td>19.443428</td>\n",
       "      <td>16.478853</td>\n",
       "      <td>18.961518</td>\n",
       "      <td>15.991897</td>\n",
       "      <td>17.419642</td>\n",
       "      <td>19.548462</td>\n",
       "    </tr>\n",
       "    <tr>\n",
       "      <th>1</th>\n",
       "      <td>1.311448e+19</td>\n",
       "      <td>4/9/2019 13:04</td>\n",
       "      <td>235.0</td>\n",
       "      <td>4/25/2019 8:15</td>\n",
       "      <td>606.0</td>\n",
       "      <td>14.126741</td>\n",
       "      <td>32.969529</td>\n",
       "      <td>3.368185e+10</td>\n",
       "      <td>3.579401e+13</td>\n",
       "      <td>L77566A</td>\n",
       "      <td>...</td>\n",
       "      <td>16.823537</td>\n",
       "      <td>16.765813</td>\n",
       "      <td>16.724508</td>\n",
       "      <td>16.661996</td>\n",
       "      <td>20.226918</td>\n",
       "      <td>13.973120</td>\n",
       "      <td>20.082529</td>\n",
       "      <td>16.527230</td>\n",
       "      <td>17.800791</td>\n",
       "      <td>20.297677</td>\n",
       "    </tr>\n",
       "    <tr>\n",
       "      <th>2</th>\n",
       "      <td>1.311448e+19</td>\n",
       "      <td>4/9/2019 17:42</td>\n",
       "      <td>1.0</td>\n",
       "      <td>4/25/2019 11:58</td>\n",
       "      <td>652.0</td>\n",
       "      <td>14.124290</td>\n",
       "      <td>32.969522</td>\n",
       "      <td>3.376063e+10</td>\n",
       "      <td>3.528151e+13</td>\n",
       "      <td>D42335A</td>\n",
       "      <td>...</td>\n",
       "      <td>16.797431</td>\n",
       "      <td>16.503329</td>\n",
       "      <td>16.682716</td>\n",
       "      <td>15.634140</td>\n",
       "      <td>19.251782</td>\n",
       "      <td>12.888235</td>\n",
       "      <td>19.833356</td>\n",
       "      <td>15.254341</td>\n",
       "      <td>17.143551</td>\n",
       "      <td>19.449612</td>\n",
       "    </tr>\n",
       "    <tr>\n",
       "      <th>3</th>\n",
       "      <td>1.311448e+19</td>\n",
       "      <td>4/10/2019 0:31</td>\n",
       "      <td>486.0</td>\n",
       "      <td>4/25/2019 7:36</td>\n",
       "      <td>171.0</td>\n",
       "      <td>14.094285</td>\n",
       "      <td>32.969527</td>\n",
       "      <td>3.375034e+10</td>\n",
       "      <td>3.535661e+13</td>\n",
       "      <td>T21824A</td>\n",
       "      <td>...</td>\n",
       "      <td>16.878346</td>\n",
       "      <td>16.533289</td>\n",
       "      <td>16.454185</td>\n",
       "      <td>13.908948</td>\n",
       "      <td>20.499545</td>\n",
       "      <td>16.199650</td>\n",
       "      <td>20.434303</td>\n",
       "      <td>16.364743</td>\n",
       "      <td>17.584222</td>\n",
       "      <td>20.556064</td>\n",
       "    </tr>\n",
       "    <tr>\n",
       "      <th>4</th>\n",
       "      <td>1.311448e+19</td>\n",
       "      <td>4/12/2019 20:10</td>\n",
       "      <td>565.0</td>\n",
       "      <td>4/25/2019 10:40</td>\n",
       "      <td>954.0</td>\n",
       "      <td>13.900779</td>\n",
       "      <td>32.969527</td>\n",
       "      <td>3.369980e+10</td>\n",
       "      <td>3.540701e+13</td>\n",
       "      <td>D88865A</td>\n",
       "      <td>...</td>\n",
       "      <td>16.540705</td>\n",
       "      <td>16.757994</td>\n",
       "      <td>16.656025</td>\n",
       "      <td>12.936559</td>\n",
       "      <td>20.084052</td>\n",
       "      <td>15.076752</td>\n",
       "      <td>20.126718</td>\n",
       "      <td>16.448142</td>\n",
       "      <td>17.467280</td>\n",
       "      <td>20.159635</td>\n",
       "    </tr>\n",
       "  </tbody>\n",
       "</table>\n",
       "<p>5 rows × 55 columns</p>\n",
       "</div>"
      ],
      "text/plain": [
       "      Bearer Id            Start  Start ms              End  End ms  \\\n",
       "0  1.311448e+19   4/4/2019 12:01     770.0  4/25/2019 14:35   662.0   \n",
       "1  1.311448e+19   4/9/2019 13:04     235.0   4/25/2019 8:15   606.0   \n",
       "2  1.311448e+19   4/9/2019 17:42       1.0  4/25/2019 11:58   652.0   \n",
       "3  1.311448e+19   4/10/2019 0:31     486.0   4/25/2019 7:36   171.0   \n",
       "4  1.311448e+19  4/12/2019 20:10     565.0  4/25/2019 10:40   954.0   \n",
       "\n",
       "   Dur. (ms)       IMSI  MSISDN/Number          IMEI     Last Location Name  \\\n",
       "0  14.416352  32.969527   3.366496e+10  3.552121e+13  9.16456699548519E+015   \n",
       "1  14.126741  32.969529   3.368185e+10  3.579401e+13                L77566A   \n",
       "2  14.124290  32.969522   3.376063e+10  3.528151e+13                D42335A   \n",
       "3  14.094285  32.969527   3.375034e+10  3.535661e+13                T21824A   \n",
       "4  13.900779  32.969527   3.369980e+10  3.540701e+13                D88865A   \n",
       "\n",
       "   ...  Youtube DL (Bytes)  Youtube UL (Bytes)  Netflix DL (Bytes)  \\\n",
       "0  ...           16.578971           14.732334           15.919515   \n",
       "1  ...           16.823537           16.765813           16.724508   \n",
       "2  ...           16.797431           16.503329           16.682716   \n",
       "3  ...           16.878346           16.533289           16.454185   \n",
       "4  ...           16.540705           16.757994           16.656025   \n",
       "\n",
       "   Netflix UL (Bytes)  Gaming DL (Bytes)  Gaming UL (Bytes)  Other DL (Bytes)  \\\n",
       "0           16.083116          19.443428          16.478853         18.961518   \n",
       "1           16.661996          20.226918          13.973120         20.082529   \n",
       "2           15.634140          19.251782          12.888235         19.833356   \n",
       "3           13.908948          20.499545          16.199650         20.434303   \n",
       "4           12.936559          20.084052          15.076752         20.126718   \n",
       "\n",
       "   Other UL (Bytes)  Total UL (Bytes)  Total DL (Bytes)  \n",
       "0         15.991897         17.419642         19.548462  \n",
       "1         16.527230         17.800791         20.297677  \n",
       "2         15.254341         17.143551         19.449612  \n",
       "3         16.364743         17.584222         20.556064  \n",
       "4         16.448142         17.467280         20.159635  \n",
       "\n",
       "[5 rows x 55 columns]"
      ]
     },
     "execution_count": 25,
     "metadata": {},
     "output_type": "execute_result"
    }
   ],
   "source": [
    "df.head(5)"
   ]
  },
  {
   "cell_type": "code",
   "execution_count": 26,
   "metadata": {},
   "outputs": [
    {
     "data": {
      "text/plain": [
       "Index(['Bearer Id', 'Start', 'Start ms', 'End', 'End ms', 'Dur. (ms)', 'IMSI',\n",
       "       'MSISDN/Number', 'IMEI', 'Last Location Name', 'Avg RTT DL (ms)',\n",
       "       'Avg RTT UL (ms)', 'Avg Bearer TP DL (kbps)', 'Avg Bearer TP UL (kbps)',\n",
       "       'TCP DL Retrans. Vol (Bytes)', 'TCP UL Retrans. Vol (Bytes)',\n",
       "       'DL TP < 50 Kbps (%)', '50 Kbps < DL TP < 250 Kbps (%)',\n",
       "       '250 Kbps < DL TP < 1 Mbps (%)', 'DL TP > 1 Mbps (%)',\n",
       "       'UL TP < 10 Kbps (%)', '10 Kbps < UL TP < 50 Kbps (%)',\n",
       "       '50 Kbps < UL TP < 300 Kbps (%)', 'UL TP > 300 Kbps (%)',\n",
       "       'HTTP DL (Bytes)', 'HTTP UL (Bytes)', 'Activity Duration DL (ms)',\n",
       "       'Activity Duration UL (ms)', 'Dur. (ms).1', 'Handset Manufacturer',\n",
       "       'Handset Type', 'Nb of sec with 125000B < Vol DL',\n",
       "       'Nb of sec with 1250B < Vol UL < 6250B',\n",
       "       'Nb of sec with 31250B < Vol DL < 125000B',\n",
       "       'Nb of sec with 37500B < Vol UL',\n",
       "       'Nb of sec with 6250B < Vol DL < 31250B',\n",
       "       'Nb of sec with 6250B < Vol UL < 37500B',\n",
       "       'Nb of sec with Vol DL < 6250B', 'Nb of sec with Vol UL < 1250B',\n",
       "       'Social Media DL (Bytes)', 'Social Media UL (Bytes)',\n",
       "       'Google DL (Bytes)', 'Google UL (Bytes)', 'Email DL (Bytes)',\n",
       "       'Email UL (Bytes)', 'Youtube DL (Bytes)', 'Youtube UL (Bytes)',\n",
       "       'Netflix DL (Bytes)', 'Netflix UL (Bytes)', 'Gaming DL (Bytes)',\n",
       "       'Gaming UL (Bytes)', 'Other DL (Bytes)', 'Other UL (Bytes)',\n",
       "       'Total UL (Bytes)', 'Total DL (Bytes)'],\n",
       "      dtype='object')"
      ]
     },
     "execution_count": 26,
     "metadata": {},
     "output_type": "execute_result"
    }
   ],
   "source": [
    "df.columns"
   ]
  },
  {
   "cell_type": "code",
   "execution_count": 27,
   "metadata": {},
   "outputs": [],
   "source": [
    "df[\"social_media\"] = df[\"Social Media DL (Bytes)\"] + df['Social Media UL (Bytes)']\n",
    "df[\"google\"] = df[\"Google DL (Bytes)\"] + df[\"Google UL (Bytes)\"]\n",
    "df['email'] = df[\"Email DL (Bytes)\"] + df[\"Email UL (Bytes)\"]\n",
    "df['youtube'] = df[\"Youtube DL (Bytes)\"] + df[\"Youtube UL (Bytes)\"]\n",
    "df['netflix'] = df[\"Netflix DL (Bytes)\"] + df[\"Netflix UL (Bytes)\"]\n",
    "df[\"gaming\"] = df[\"Gaming DL (Bytes)\"] + df[\"Gaming UL (Bytes)\"]\n",
    "df['other'] = df[\"Other DL (Bytes)\"]+df[\"Other UL (Bytes)\"]\n",
    "df['total_data'] = df['Total DL (Bytes)'] + df['Total UL (Bytes)']"
   ]
  },
  {
   "cell_type": "code",
   "execution_count": 28,
   "metadata": {},
   "outputs": [
    {
     "data": {
      "text/plain": [
       "0         3.360100e+10\n",
       "1         3.360100e+10\n",
       "2         3.360100e+10\n",
       "3         3.360101e+10\n",
       "4         3.360101e+10\n",
       "              ...     \n",
       "106851    3.379000e+10\n",
       "106852    3.379000e+10\n",
       "106853    3.197021e+12\n",
       "106854    3.370000e+14\n",
       "106855    8.823971e+14\n",
       "Name: MSISDN/Number, Length: 106856, dtype: float64"
      ]
     },
     "execution_count": 28,
     "metadata": {},
     "output_type": "execute_result"
    }
   ],
   "source": [
    "data = df.groupby('MSISDN/Number').agg({'Bearer Id':'count', 'Dur. (ms)':sum,'total_data':sum})\n",
    "data_aggregate = data.reset_index()\n",
    "data_aggregate['MSISDN/Number']"
   ]
  },
  {
   "cell_type": "code",
   "execution_count": 29,
   "metadata": {},
   "outputs": [],
   "source": [
    "sessions = data_aggregate.nlargest(10, \"Bearer Id\")['Bearer Id']\n",
    "duration = data_aggregate.nlargest(10, \"Dur. (ms)\")['Dur. (ms)']\n",
    "total_data = data_aggregate.nlargest(10, \"total_data\")['total_data']"
   ]
  },
  {
   "cell_type": "code",
   "execution_count": 30,
   "metadata": {},
   "outputs": [],
   "source": [
    "sesssions_df = pd.DataFrame()\n",
    "sesssions_df['User_ID'] = sessions.index\n",
    "sesssions_df['Sessions'] = sessions.values\n",
    "durations_df = pd.DataFrame()\n",
    "durations_df['User_ID'] = duration.index\n",
    "durations_df['duration'] = duration.values\n",
    "total_data_df = pd.DataFrame()\n",
    "total_data_df['User_ID'] = total_data.index\n",
    "total_data_df['total_data'] = total_data.values"
   ]
  },
  {
   "cell_type": "markdown",
   "metadata": {},
   "source": [
    "Aggregate per-customer id and report top 10 engagement "
   ]
  },
  {
   "cell_type": "code",
   "execution_count": 31,
   "metadata": {},
   "outputs": [
    {
     "data": {
      "text/plain": [
       "[]"
      ]
     },
     "execution_count": 31,
     "metadata": {},
     "output_type": "execute_result"
    },
    {
     "data": {
      "image/png": "[encoded data removed]",
      "text/plain": [
       "<Figure size 2500x500 with 3 Axes>"
      ]
     },
     "metadata": {},
     "output_type": "display_data"
    }
   ],
   "source": [
    "f, axes = plt.subplots(1, 3, figsize=(25, 5))\n",
    "ax1 = sns.barplot(data=sesssions_df, x='User_ID', orient='v', y='Sessions', ax=axes[0])\n",
    "ax2 = sns.barplot(data=durations_df, x='User_ID',orient='v', y='duration', ax=axes[1])\n",
    "ax3 = sns.barplot(data=total_data_df, x='User_ID',orient='v', y='total_data', ax=axes[2])\n",
    "ax1.set_xticklabels(ax1.xaxis.get_majorticklabels(), rotation=45)\n",
    "ax2.set_xticklabels(ax2.xaxis.get_majorticklabels(), rotation=45)\n",
    "ax3.set_xticklabels(ax3.xaxis.get_majorticklabels(), rotation=45)\n",
    "plt.plot()\n"
   ]
  },
  {
   "cell_type": "code",
   "execution_count": null,
   "metadata": {},
   "outputs": [],
   "source": []
  }
 ],
 "metadata": {
  "kernelspec": {
   "display_name": "base",
   "language": "python",
   "name": "python3"
  },
  "language_info": {
   "codemirror_mode": {
    "name": "ipython",
    "version": 3
   },
   "file_extension": ".py",
   "mimetype": "text/x-python",
   "name": "python",
   "nbconvert_exporter": "python",
   "pygments_lexer": "ipython3",
   "version": "3.11.5"
  }
 },
 "nbformat": 4,
 "nbformat_minor": 2
}
