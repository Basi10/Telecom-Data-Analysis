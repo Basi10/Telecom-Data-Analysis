{
 "cells": [
  {
   "cell_type": "code",
   "execution_count": 84,
   "metadata": {},
   "outputs": [],
   "source": [
    "import joblib"
   ]
  },
  {
   "cell_type": "code",
   "execution_count": 85,
   "metadata": {},
   "outputs": [],
   "source": [
    "import os\n",
    "import sys\n",
    "import numpy as np\n",
    "import pandas as pd \n",
    "import matplotlib.pyplot as plt\n",
    "import seaborn as sns\n",
    "%matplotlib inline"
   ]
  },
  {
   "cell_type": "code",
   "execution_count": 86,
   "metadata": {},
   "outputs": [],
   "source": [
    "rpath = os.path.abspath('..')\n",
    "if rpath not in sys.path:\n",
    "    sys.path.insert(0,rpath)\n",
    "from src.plots import Plot\n",
    "from src.preprocessing import PreProcess"
   ]
  },
  {
   "cell_type": "code",
   "execution_count": 87,
   "metadata": {},
   "outputs": [
    {
     "data": {
      "text/html": [
       "<style>#sk-container-id-4 {color: black;}#sk-container-id-4 pre{padding: 0;}#sk-container-id-4 div.sk-toggleable {background-color: white;}#sk-container-id-4 label.sk-toggleable__label {cursor: pointer;display: block;width: 100%;margin-bottom: 0;padding: 0.3em;box-sizing: border-box;text-align: center;}#sk-container-id-4 label.sk-toggleable__label-arrow:before {content: \"▸\";float: left;margin-right: 0.25em;color: #696969;}#sk-container-id-4 label.sk-toggleable__label-arrow:hover:before {color: black;}#sk-container-id-4 div.sk-estimator:hover label.sk-toggleable__label-arrow:before {color: black;}#sk-container-id-4 div.sk-toggleable__content {max-height: 0;max-width: 0;overflow: hidden;text-align: left;background-color: #f0f8ff;}#sk-container-id-4 div.sk-toggleable__content pre {margin: 0.2em;color: black;border-radius: 0.25em;background-color: #f0f8ff;}#sk-container-id-4 input.sk-toggleable__control:checked~div.sk-toggleable__content {max-height: 200px;max-width: 100%;overflow: auto;}#sk-container-id-4 input.sk-toggleable__control:checked~label.sk-toggleable__label-arrow:before {content: \"▾\";}#sk-container-id-4 div.sk-estimator input.sk-toggleable__control:checked~label.sk-toggleable__label {background-color: #d4ebff;}#sk-container-id-4 div.sk-label input.sk-toggleable__control:checked~label.sk-toggleable__label {background-color: #d4ebff;}#sk-container-id-4 input.sk-hidden--visually {border: 0;clip: rect(1px 1px 1px 1px);clip: rect(1px, 1px, 1px, 1px);height: 1px;margin: -1px;overflow: hidden;padding: 0;position: absolute;width: 1px;}#sk-container-id-4 div.sk-estimator {font-family: monospace;background-color: #f0f8ff;border: 1px dotted black;border-radius: 0.25em;box-sizing: border-box;margin-bottom: 0.5em;}#sk-container-id-4 div.sk-estimator:hover {background-color: #d4ebff;}#sk-container-id-4 div.sk-parallel-item::after {content: \"\";width: 100%;border-bottom: 1px solid gray;flex-grow: 1;}#sk-container-id-4 div.sk-label:hover label.sk-toggleable__label {background-color: #d4ebff;}#sk-container-id-4 div.sk-serial::before {content: \"\";position: absolute;border-left: 1px solid gray;box-sizing: border-box;top: 0;bottom: 0;left: 50%;z-index: 0;}#sk-container-id-4 div.sk-serial {display: flex;flex-direction: column;align-items: center;background-color: white;padding-right: 0.2em;padding-left: 0.2em;position: relative;}#sk-container-id-4 div.sk-item {position: relative;z-index: 1;}#sk-container-id-4 div.sk-parallel {display: flex;align-items: stretch;justify-content: center;background-color: white;position: relative;}#sk-container-id-4 div.sk-item::before, #sk-container-id-4 div.sk-parallel-item::before {content: \"\";position: absolute;border-left: 1px solid gray;box-sizing: border-box;top: 0;bottom: 0;left: 50%;z-index: -1;}#sk-container-id-4 div.sk-parallel-item {display: flex;flex-direction: column;z-index: 1;position: relative;background-color: white;}#sk-container-id-4 div.sk-parallel-item:first-child::after {align-self: flex-end;width: 50%;}#sk-container-id-4 div.sk-parallel-item:last-child::after {align-self: flex-start;width: 50%;}#sk-container-id-4 div.sk-parallel-item:only-child::after {width: 0;}#sk-container-id-4 div.sk-dashed-wrapped {border: 1px dashed gray;margin: 0 0.4em 0.5em 0.4em;box-sizing: border-box;padding-bottom: 0.4em;background-color: white;}#sk-container-id-4 div.sk-label label {font-family: monospace;font-weight: bold;display: inline-block;line-height: 1.2em;}#sk-container-id-4 div.sk-label-container {text-align: center;}#sk-container-id-4 div.sk-container {/* jupyter's `normalize.less` sets `[hidden] { display: none; }` but bootstrap.min.css set `[hidden] { display: none !important; }` so we also need the `!important` here to be able to override the default hidden behavior on the sphinx rendered scikit-learn.org. See: https://github.com/scikit-learn/scikit-learn/issues/21755 */display: inline-block !important;position: relative;}#sk-container-id-4 div.sk-text-repr-fallback {display: none;}</style><div id=\"sk-container-id-4\" class=\"sk-top-container\"><div class=\"sk-text-repr-fallback\"><pre>KMeans(n_clusters=3, random_state=42)</pre><b>In a Jupyter environment, please rerun this cell to show the HTML representation or trust the notebook. <br />On GitHub, the HTML representation is unable to render, please try loading this page with nbviewer.org.</b></div><div class=\"sk-container\" hidden><div class=\"sk-item\"><div class=\"sk-estimator sk-toggleable\"><input class=\"sk-toggleable__control sk-hidden--visually\" id=\"sk-estimator-id-4\" type=\"checkbox\" checked><label for=\"sk-estimator-id-4\" class=\"sk-toggleable__label sk-toggleable__label-arrow\">KMeans</label><div class=\"sk-toggleable__content\"><pre>KMeans(n_clusters=3, random_state=42)</pre></div></div></div></div></div>"
      ],
      "text/plain": [
       "KMeans(n_clusters=3, random_state=42)"
      ]
     },
     "execution_count": 87,
     "metadata": {},
     "output_type": "execute_result"
    }
   ],
   "source": [
    "kmeans = joblib.load('../models/kmeans_model.pkl')\n",
    "kmeans"
   ]
  },
  {
   "cell_type": "code",
   "execution_count": 88,
   "metadata": {},
   "outputs": [],
   "source": [
    "df = pd.read_csv('../data/cleaned_data_outliers.csv')\n",
    "df['avg_tcp_retrans'] = df['tcp_dl_retrans._vol_(bytes)'] + df['tcp_ul_retrans._vol_(bytes)']\n",
    "df['avg_rrt'] = df['avg_rtt_dl_(ms)'] + df['avg_rtt_dl_(ms)']\n",
    "df['avg_bearer_tp'] = df['avg_bearer_tp_dl_(kbps)'] + df['avg_bearer_tp_ul_(kbps)']\n",
    "df[\"social_media\"] = df[\"social_media_dl_(bytes)\"] + df['social_media_ul_(bytes)']\n",
    "df[\"google\"] = df[\"google_dl_(bytes)\"] + df[\"google_ul_(bytes)\"]\n",
    "df['email'] = df[\"email_dl_(bytes)\"] + df[\"email_ul_(bytes)\"]\n",
    "df['youtube'] = df[\"youtube_dl_(bytes)\"] + df[\"youtube_ul_(bytes)\"]\n",
    "df['netflix'] = df[\"netflix_dl_(bytes)\"] + df[\"netflix_ul_(bytes)\"]\n",
    "df[\"gaming\"] = df[\"gaming_dl_(bytes)\"] + df[\"gaming_ul_(bytes)\"]\n",
    "df['other'] = df[\"other_dl_(bytes)\"]+df[\"other_ul_(bytes)\"]\n",
    "df['total_data'] = df['total_dl_(bytes)'] + df['total_ul_(bytes)']"
   ]
  },
  {
   "cell_type": "code",
   "execution_count": 89,
   "metadata": {},
   "outputs": [],
   "source": [
    "column_name = 'msisdn/number'\n",
    "value_to_match = 33663706799.0\n",
    "mask = df[column_name] == value_to_match\n",
    "df = df[~mask]"
   ]
  },
  {
   "cell_type": "code",
   "execution_count": 90,
   "metadata": {},
   "outputs": [],
   "source": [
    "preprocess = PreProcess(df)"
   ]
  },
  {
   "cell_type": "code",
   "execution_count": 91,
   "metadata": {},
   "outputs": [
    {
     "data": {
      "text/html": [
       "<div>\n",
       "<style scoped>\n",
       "    .dataframe tbody tr th:only-of-type {\n",
       "        vertical-align: middle;\n",
       "    }\n",
       "\n",
       "    .dataframe tbody tr th {\n",
       "        vertical-align: top;\n",
       "    }\n",
       "\n",
       "    .dataframe thead th {\n",
       "        text-align: right;\n",
       "    }\n",
       "</style>\n",
       "<table border=\"1\" class=\"dataframe\">\n",
       "  <thead>\n",
       "    <tr style=\"text-align: right;\">\n",
       "      <th></th>\n",
       "      <th>avg_tcp_retrans</th>\n",
       "      <th>avg_rrt</th>\n",
       "      <th>avg_bearer_tp</th>\n",
       "    </tr>\n",
       "    <tr>\n",
       "      <th>msisdn/number</th>\n",
       "      <th></th>\n",
       "      <th></th>\n",
       "      <th></th>\n",
       "    </tr>\n",
       "  </thead>\n",
       "  <tbody>\n",
       "    <tr>\n",
       "      <th>3.360100e+10</th>\n",
       "      <td>23.201031</td>\n",
       "      <td>7.657283</td>\n",
       "      <td>7.274480</td>\n",
       "    </tr>\n",
       "    <tr>\n",
       "      <th>3.360100e+10</th>\n",
       "      <td>23.201031</td>\n",
       "      <td>6.802395</td>\n",
       "      <td>7.803027</td>\n",
       "    </tr>\n",
       "    <tr>\n",
       "      <th>3.360100e+10</th>\n",
       "      <td>23.201031</td>\n",
       "      <td>7.613325</td>\n",
       "      <td>7.763021</td>\n",
       "    </tr>\n",
       "    <tr>\n",
       "      <th>3.360101e+10</th>\n",
       "      <td>16.921539</td>\n",
       "      <td>8.468213</td>\n",
       "      <td>9.102310</td>\n",
       "    </tr>\n",
       "    <tr>\n",
       "      <th>3.360101e+10</th>\n",
       "      <td>49.213729</td>\n",
       "      <td>15.573104</td>\n",
       "      <td>27.135851</td>\n",
       "    </tr>\n",
       "    <tr>\n",
       "      <th>...</th>\n",
       "      <td>...</td>\n",
       "      <td>...</td>\n",
       "      <td>...</td>\n",
       "    </tr>\n",
       "    <tr>\n",
       "      <th>3.379000e+10</th>\n",
       "      <td>20.285299</td>\n",
       "      <td>7.475339</td>\n",
       "      <td>15.166563</td>\n",
       "    </tr>\n",
       "    <tr>\n",
       "      <th>3.379000e+10</th>\n",
       "      <td>23.201031</td>\n",
       "      <td>7.052721</td>\n",
       "      <td>8.090709</td>\n",
       "    </tr>\n",
       "    <tr>\n",
       "      <th>3.197021e+12</th>\n",
       "      <td>23.201031</td>\n",
       "      <td>7.613325</td>\n",
       "      <td>16.089721</td>\n",
       "    </tr>\n",
       "    <tr>\n",
       "      <th>3.370000e+14</th>\n",
       "      <td>23.201031</td>\n",
       "      <td>7.613325</td>\n",
       "      <td>5.488938</td>\n",
       "    </tr>\n",
       "    <tr>\n",
       "      <th>8.823971e+14</th>\n",
       "      <td>23.201031</td>\n",
       "      <td>7.613325</td>\n",
       "      <td>16.089721</td>\n",
       "    </tr>\n",
       "  </tbody>\n",
       "</table>\n",
       "<p>106855 rows × 3 columns</p>\n",
       "</div>"
      ],
      "text/plain": [
       "               avg_tcp_retrans    avg_rrt  avg_bearer_tp\n",
       "msisdn/number                                           \n",
       "3.360100e+10         23.201031   7.657283       7.274480\n",
       "3.360100e+10         23.201031   6.802395       7.803027\n",
       "3.360100e+10         23.201031   7.613325       7.763021\n",
       "3.360101e+10         16.921539   8.468213       9.102310\n",
       "3.360101e+10         49.213729  15.573104      27.135851\n",
       "...                        ...        ...            ...\n",
       "3.379000e+10         20.285299   7.475339      15.166563\n",
       "3.379000e+10         23.201031   7.052721       8.090709\n",
       "3.197021e+12         23.201031   7.613325      16.089721\n",
       "3.370000e+14         23.201031   7.613325       5.488938\n",
       "8.823971e+14         23.201031   7.613325      16.089721\n",
       "\n",
       "[106855 rows x 3 columns]"
      ]
     },
     "execution_count": 91,
     "metadata": {},
     "output_type": "execute_result"
    }
   ],
   "source": [
    "agg_data = df.groupby('msisdn/number').agg({'avg_tcp_retrans':sum,'avg_rrt':sum,'avg_bearer_tp':sum})\n",
    "preprocess.replace_neg_inf_with_mean(agg_data)"
   ]
  },
  {
   "cell_type": "markdown",
   "metadata": {},
   "source": [
    "**Experience score to each user**"
   ]
  },
  {
   "cell_type": "code",
   "execution_count": 92,
   "metadata": {},
   "outputs": [],
   "source": [
    "from sklearn.preprocessing import StandardScaler"
   ]
  },
  {
   "cell_type": "code",
   "execution_count": 93,
   "metadata": {},
   "outputs": [],
   "source": [
    "scaler = StandardScaler()\n",
    "scaled_features = scaler.fit_transform(agg_data[['avg_tcp_retrans','avg_rrt','avg_bearer_tp']])"
   ]
  },
  {
   "cell_type": "code",
   "execution_count": 94,
   "metadata": {},
   "outputs": [],
   "source": [
    "cluster_centers = scaler.inverse_transform(kmeans.cluster_centers_)\n",
    "centroid_df = pd.DataFrame(cluster_centers, columns=['avg_tcp_retrans','avg_rrt','avg_bearer_tp'])"
   ]
  },
  {
   "cell_type": "code",
   "execution_count": 95,
   "metadata": {},
   "outputs": [
    {
     "name": "stdout",
     "output_type": "stream",
     "text": [
      "Cluster Centers:\n",
      "   avg_tcp_retrans    avg_rrt  avg_bearer_tp\n",
      "0        22.803067   7.940064      11.011754\n",
      "1        49.151734  16.482872      24.187841\n",
      "2       103.877151  35.805388      63.802692\n"
     ]
    }
   ],
   "source": [
    "print(\"Cluster Centers:\")\n",
    "print(centroid_df)"
   ]
  },
  {
   "cell_type": "code",
   "execution_count": 96,
   "metadata": {},
   "outputs": [],
   "source": [
    "from sklearn.metrics.pairwise import euclidean_distances\n",
    "\n",
    "# Calculate Euclidean distances between each user and the centroids\n",
    "distances = euclidean_distances(scaled_features, cluster_centers)\n",
    "\n",
    "# Find the cluster index for the less engaged cluster (assuming Cluster 0 is less engaged)\n",
    "less_engaged_cluster_index = 0\n",
    "\n",
    "# Extract the distances for the less engaged cluster\n",
    "engagement_scores = distances[:, less_engaged_cluster_index]\n",
    "\n",
    "# Add the engagement scores to the DataFrame\n",
    "agg_data['Engagement_Score'] = engagement_scores\n"
   ]
  },
  {
   "cell_type": "code",
   "execution_count": 97,
   "metadata": {},
   "outputs": [
    {
     "data": {
      "image/png": "[encoded data removed]",
      "text/plain": [
       "<Figure size 1000x600 with 1 Axes>"
      ]
     },
     "metadata": {},
     "output_type": "display_data"
    }
   ],
   "source": [
    "# Set the style for better visualization\n",
    "sns.set(style=\"whitegrid\")\n",
    "\n",
    "# Create a histogram of engagement scores\n",
    "plt.figure(figsize=(10, 6))\n",
    "sns.histplot(agg_data['Engagement_Score'], bins=30, kde=True, color='skyblue')\n",
    "\n",
    "# Set plot labels and title\n",
    "plt.xlabel('Engagement Score')\n",
    "plt.ylabel('Frequency')\n",
    "plt.title('Distribution of Engagement Scores')\n",
    "\n",
    "# Display the plot\n",
    "plt.show()\n"
   ]
  },
  {
   "cell_type": "markdown",
   "metadata": {},
   "source": [
    "This is what we call left skewed, which suggests that there are fewer users with lower experience score, while a significant proportion of users has higher experience scores."
   ]
  },
  {
   "cell_type": "markdown",
   "metadata": {},
   "source": [
    "**Engagement score to each user**"
   ]
  },
  {
   "cell_type": "code",
   "execution_count": 98,
   "metadata": {},
   "outputs": [],
   "source": [
    "user_engagement_kmeans = joblib.load('../models/user_engagement.pkl')"
   ]
  },
  {
   "cell_type": "code",
   "execution_count": 99,
   "metadata": {},
   "outputs": [],
   "source": [
    "df = df.rename( columns={'bearer_id': 'sessions'})"
   ]
  },
  {
   "cell_type": "code",
   "execution_count": 107,
   "metadata": {},
   "outputs": [
    {
     "data": {
      "text/html": [
       "<div>\n",
       "<style scoped>\n",
       "    .dataframe tbody tr th:only-of-type {\n",
       "        vertical-align: middle;\n",
       "    }\n",
       "\n",
       "    .dataframe tbody tr th {\n",
       "        vertical-align: top;\n",
       "    }\n",
       "\n",
       "    .dataframe thead th {\n",
       "        text-align: right;\n",
       "    }\n",
       "</style>\n",
       "<table border=\"1\" class=\"dataframe\">\n",
       "  <thead>\n",
       "    <tr style=\"text-align: right;\">\n",
       "      <th></th>\n",
       "      <th>sessions</th>\n",
       "      <th>dur._(ms)</th>\n",
       "      <th>total_data</th>\n",
       "    </tr>\n",
       "    <tr>\n",
       "      <th>msisdn/number</th>\n",
       "      <th></th>\n",
       "      <th></th>\n",
       "      <th></th>\n",
       "    </tr>\n",
       "  </thead>\n",
       "  <tbody>\n",
       "    <tr>\n",
       "      <th>3.362632e+10</th>\n",
       "      <td>18</td>\n",
       "      <td>231.977427</td>\n",
       "      <td>667.707948</td>\n",
       "    </tr>\n",
       "    <tr>\n",
       "      <th>3.361489e+10</th>\n",
       "      <td>17</td>\n",
       "      <td>222.446521</td>\n",
       "      <td>633.565683</td>\n",
       "    </tr>\n",
       "    <tr>\n",
       "      <th>3.362578e+10</th>\n",
       "      <td>17</td>\n",
       "      <td>233.413129</td>\n",
       "      <td>634.698734</td>\n",
       "    </tr>\n",
       "    <tr>\n",
       "      <th>3.365973e+10</th>\n",
       "      <td>16</td>\n",
       "      <td>198.016024</td>\n",
       "      <td>592.952528</td>\n",
       "    </tr>\n",
       "    <tr>\n",
       "      <th>3.367588e+10</th>\n",
       "      <td>15</td>\n",
       "      <td>188.665113</td>\n",
       "      <td>559.199968</td>\n",
       "    </tr>\n",
       "  </tbody>\n",
       "</table>\n",
       "</div>"
      ],
      "text/plain": [
       "               sessions   dur._(ms)  total_data\n",
       "msisdn/number                                  \n",
       "3.362632e+10         18  231.977427  667.707948\n",
       "3.361489e+10         17  222.446521  633.565683\n",
       "3.362578e+10         17  233.413129  634.698734\n",
       "3.365973e+10         16  198.016024  592.952528\n",
       "3.367588e+10         15  188.665113  559.199968"
      ]
     },
     "execution_count": 107,
     "metadata": {},
     "output_type": "execute_result"
    }
   ],
   "source": [
    "data_aggregate = df.groupby('msisdn/number').agg({'sessions': 'count', 'dur._(ms)': 'sum', 'total_data': 'sum'})\n",
    "df\n",
    "data_aggregate.nlargest(5,'sessions')"
   ]
  },
  {
   "cell_type": "code",
   "execution_count": 101,
   "metadata": {},
   "outputs": [],
   "source": [
    "scaler = StandardScaler()\n",
    "scaled_features = scaler.fit_transform(data_aggregate[['sessions','dur._(ms)','total_data']])\n"
   ]
  },
  {
   "cell_type": "code",
   "execution_count": 102,
   "metadata": {},
   "outputs": [],
   "source": [
    "cluster_centers = scaler.inverse_transform(user_engagement_kmeans.cluster_centers_)\n",
    "centroid_df = pd.DataFrame(cluster_centers, columns=['sessions','dur._(ms)','total_data'])"
   ]
  },
  {
   "cell_type": "code",
   "execution_count": 103,
   "metadata": {},
   "outputs": [],
   "source": [
    "from sklearn.metrics.pairwise import euclidean_distances\n",
    "\n",
    "# Calculate Euclidean distances between each user and the centroids\n",
    "distances = euclidean_distances(scaled_features, cluster_centers)\n",
    "\n",
    "# Find the cluster index for the less engaged cluster (assuming Cluster 0 is less engaged)\n",
    "less_engaged_cluster_index = 0\n",
    "\n",
    "# Extract the distances for the less engaged cluster\n",
    "engagement_scores = distances[:, less_engaged_cluster_index]\n",
    "\n",
    "# Add the engagement scores to the DataFrame\n",
    "data_aggregate['Engagement_Score'] = engagement_scores\n"
   ]
  },
  {
   "cell_type": "code",
   "execution_count": 104,
   "metadata": {},
   "outputs": [
    {
     "data": {
      "image/png": "[encoded data removed]",
      "text/plain": [
       "<Figure size 1000x600 with 1 Axes>"
      ]
     },
     "metadata": {},
     "output_type": "display_data"
    }
   ],
   "source": [
    "# Set the style for better visualization\n",
    "sns.set(style=\"whitegrid\")\n",
    "\n",
    "# Create a histogram of engagement scores\n",
    "plt.figure(figsize=(10, 6))\n",
    "sns.histplot(data_aggregate['Engagement_Score'], bins=30, kde=True, color='skyblue')\n",
    "\n",
    "# Set plot labels and title\n",
    "plt.xlabel('Engagement Score')\n",
    "plt.ylabel('Frequency')\n",
    "plt.title('Distribution of Engagement Scores')\n",
    "\n",
    "# Display the plot\n",
    "plt.show()"
   ]
  },
  {
   "cell_type": "code",
   "execution_count": null,
   "metadata": {},
   "outputs": [],
   "source": []
  }
 ],
 "metadata": {
  "kernelspec": {
   "display_name": "base",
   "language": "python",
   "name": "python3"
  },
  "language_info": {
   "codemirror_mode": {
    "name": "ipython",
    "version": 3
   },
   "file_extension": ".py",
   "mimetype": "text/x-python",
   "name": "python",
   "nbconvert_exporter": "python",
   "pygments_lexer": "ipython3",
   "version": "3.11.5"
  }
 },
 "nbformat": 4,
 "nbformat_minor": 2
}
