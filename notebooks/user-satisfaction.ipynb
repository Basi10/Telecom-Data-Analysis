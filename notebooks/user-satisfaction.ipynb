{
 "cells": [
  {
   "cell_type": "code",
   "execution_count": 36,
   "metadata": {},
   "outputs": [],
   "source": [
    "import joblib"
   ]
  },
  {
   "cell_type": "code",
   "execution_count": 37,
   "metadata": {},
   "outputs": [],
   "source": [
    "import os\n",
    "import sys\n",
    "import numpy as np\n",
    "import pandas as pd \n",
    "import matplotlib.pyplot as plt\n",
    "import seaborn as sns\n",
    "%matplotlib inline"
   ]
  },
  {
   "cell_type": "code",
   "execution_count": 38,
   "metadata": {},
   "outputs": [],
   "source": [
    "rpath = os.path.abspath('..')\n",
    "if rpath not in sys.path:\n",
    "    sys.path.insert(0,rpath)\n",
    "from src.plots import Plot\n",
    "from src.preprocessing import PreProcess"
   ]
  },
  {
   "cell_type": "code",
   "execution_count": 39,
   "metadata": {},
   "outputs": [],
   "source": [
    "kmeans = joblib.load('../models/kmeans_model.pkl')"
   ]
  },
  {
   "cell_type": "code",
   "execution_count": 40,
   "metadata": {},
   "outputs": [],
   "source": [
    "df = pd.read_csv('../data/cleaned_data_outliers.csv')\n",
    "df['avg_tcp_retrans'] = df['tcp_dl_retrans._vol_(bytes)'] + df['tcp_ul_retrans._vol_(bytes)']\n",
    "df['avg_rrt'] = df['avg_rtt_dl_(ms)'] + df['avg_rtt_dl_(ms)']\n",
    "df['avg_bearer_tp'] = df['avg_bearer_tp_dl_(kbps)'] + df['avg_bearer_tp_ul_(kbps)']"
   ]
  },
  {
   "cell_type": "code",
   "execution_count": 41,
   "metadata": {},
   "outputs": [],
   "source": [
    "column_name = 'msisdn/number'\n",
    "value_to_match = 33663706799.0\n",
    "mask = df[column_name] == value_to_match\n",
    "df = df[~mask]"
   ]
  },
  {
   "cell_type": "code",
   "execution_count": 42,
   "metadata": {},
   "outputs": [],
   "source": [
    "preprocess = PreProcess(df)"
   ]
  },
  {
   "cell_type": "code",
   "execution_count": 43,
   "metadata": {},
   "outputs": [
    {
     "data": {
      "text/html": [
       "<div>\n",
       "<style scoped>\n",
       "    .dataframe tbody tr th:only-of-type {\n",
       "        vertical-align: middle;\n",
       "    }\n",
       "\n",
       "    .dataframe tbody tr th {\n",
       "        vertical-align: top;\n",
       "    }\n",
       "\n",
       "    .dataframe thead th {\n",
       "        text-align: right;\n",
       "    }\n",
       "</style>\n",
       "<table border=\"1\" class=\"dataframe\">\n",
       "  <thead>\n",
       "    <tr style=\"text-align: right;\">\n",
       "      <th></th>\n",
       "      <th>avg_tcp_retrans</th>\n",
       "      <th>avg_rrt</th>\n",
       "      <th>avg_bearer_tp</th>\n",
       "    </tr>\n",
       "    <tr>\n",
       "      <th>msisdn/number</th>\n",
       "      <th></th>\n",
       "      <th></th>\n",
       "      <th></th>\n",
       "    </tr>\n",
       "  </thead>\n",
       "  <tbody>\n",
       "    <tr>\n",
       "      <th>3.360100e+10</th>\n",
       "      <td>23.201031</td>\n",
       "      <td>7.657283</td>\n",
       "      <td>7.274480</td>\n",
       "    </tr>\n",
       "    <tr>\n",
       "      <th>3.360100e+10</th>\n",
       "      <td>23.201031</td>\n",
       "      <td>6.802395</td>\n",
       "      <td>7.803027</td>\n",
       "    </tr>\n",
       "    <tr>\n",
       "      <th>3.360100e+10</th>\n",
       "      <td>23.201031</td>\n",
       "      <td>7.613325</td>\n",
       "      <td>7.763021</td>\n",
       "    </tr>\n",
       "    <tr>\n",
       "      <th>3.360101e+10</th>\n",
       "      <td>16.921539</td>\n",
       "      <td>8.468213</td>\n",
       "      <td>9.102310</td>\n",
       "    </tr>\n",
       "    <tr>\n",
       "      <th>3.360101e+10</th>\n",
       "      <td>49.213729</td>\n",
       "      <td>15.573104</td>\n",
       "      <td>27.135851</td>\n",
       "    </tr>\n",
       "    <tr>\n",
       "      <th>...</th>\n",
       "      <td>...</td>\n",
       "      <td>...</td>\n",
       "      <td>...</td>\n",
       "    </tr>\n",
       "    <tr>\n",
       "      <th>3.379000e+10</th>\n",
       "      <td>20.285299</td>\n",
       "      <td>7.475339</td>\n",
       "      <td>15.166563</td>\n",
       "    </tr>\n",
       "    <tr>\n",
       "      <th>3.379000e+10</th>\n",
       "      <td>23.201031</td>\n",
       "      <td>7.052721</td>\n",
       "      <td>8.090709</td>\n",
       "    </tr>\n",
       "    <tr>\n",
       "      <th>3.197021e+12</th>\n",
       "      <td>23.201031</td>\n",
       "      <td>7.613325</td>\n",
       "      <td>16.089721</td>\n",
       "    </tr>\n",
       "    <tr>\n",
       "      <th>3.370000e+14</th>\n",
       "      <td>23.201031</td>\n",
       "      <td>7.613325</td>\n",
       "      <td>5.488938</td>\n",
       "    </tr>\n",
       "    <tr>\n",
       "      <th>8.823971e+14</th>\n",
       "      <td>23.201031</td>\n",
       "      <td>7.613325</td>\n",
       "      <td>16.089721</td>\n",
       "    </tr>\n",
       "  </tbody>\n",
       "</table>\n",
       "<p>106855 rows × 3 columns</p>\n",
       "</div>"
      ],
      "text/plain": [
       "               avg_tcp_retrans    avg_rrt  avg_bearer_tp\n",
       "msisdn/number                                           \n",
       "3.360100e+10         23.201031   7.657283       7.274480\n",
       "3.360100e+10         23.201031   6.802395       7.803027\n",
       "3.360100e+10         23.201031   7.613325       7.763021\n",
       "3.360101e+10         16.921539   8.468213       9.102310\n",
       "3.360101e+10         49.213729  15.573104      27.135851\n",
       "...                        ...        ...            ...\n",
       "3.379000e+10         20.285299   7.475339      15.166563\n",
       "3.379000e+10         23.201031   7.052721       8.090709\n",
       "3.197021e+12         23.201031   7.613325      16.089721\n",
       "3.370000e+14         23.201031   7.613325       5.488938\n",
       "8.823971e+14         23.201031   7.613325      16.089721\n",
       "\n",
       "[106855 rows x 3 columns]"
      ]
     },
     "execution_count": 43,
     "metadata": {},
     "output_type": "execute_result"
    }
   ],
   "source": [
    "agg_data = df.groupby('msisdn/number').agg({'avg_tcp_retrans':sum,'avg_rrt':sum,'avg_bearer_tp':sum})\n",
    "preprocess.replace_neg_inf_with_mean(agg_data)"
   ]
  },
  {
   "cell_type": "markdown",
   "metadata": {},
   "source": [
    "**Experience score to each user**"
   ]
  },
  {
   "cell_type": "code",
   "execution_count": 44,
   "metadata": {},
   "outputs": [],
   "source": [
    "from sklearn.preprocessing import StandardScaler"
   ]
  },
  {
   "cell_type": "code",
   "execution_count": 45,
   "metadata": {},
   "outputs": [],
   "source": [
    "scaler = StandardScaler()\n",
    "scaled_features = scaler.fit_transform(agg_data[['avg_tcp_retrans','avg_rrt','avg_bearer_tp']])"
   ]
  },
  {
   "cell_type": "code",
   "execution_count": 46,
   "metadata": {},
   "outputs": [],
   "source": [
    "cluster_centers = scaler.inverse_transform(kmeans.cluster_centers_)\n",
    "centroid_df = pd.DataFrame(cluster_centers, columns=['avg_tcp_retrans','avg_rrt','avg_bearer_tp'])"
   ]
  },
  {
   "cell_type": "code",
   "execution_count": 47,
   "metadata": {},
   "outputs": [
    {
     "name": "stdout",
     "output_type": "stream",
     "text": [
      "Cluster Centers:\n",
      "   avg_tcp_retrans    avg_rrt  avg_bearer_tp\n",
      "0        22.803067   7.940064      11.011754\n",
      "1        49.151734  16.482872      24.187841\n",
      "2       103.877151  35.805388      63.802692\n"
     ]
    }
   ],
   "source": [
    "print(\"Cluster Centers:\")\n",
    "print(centroid_df)"
   ]
  },
  {
   "cell_type": "code",
   "execution_count": 50,
   "metadata": {},
   "outputs": [],
   "source": [
    "from sklearn.metrics.pairwise import euclidean_distances\n",
    "\n",
    "# Calculate Euclidean distances between each user and the centroids\n",
    "distances = euclidean_distances(scaled_features, cluster_centers)\n",
    "\n",
    "# Find the cluster index for the less engaged cluster (assuming Cluster 0 is less engaged)\n",
    "less_engaged_cluster_index = 0\n",
    "\n",
    "# Extract the distances for the less engaged cluster\n",
    "engagement_scores = distances[:, less_engaged_cluster_index]\n",
    "\n",
    "# Add the engagement scores to the DataFrame\n",
    "agg_data['Engagement_Score'] = engagement_scores\n"
   ]
  },
  {
   "cell_type": "code",
   "execution_count": 51,
   "metadata": {},
   "outputs": [
    {
     "data": {
      "image/png": "[encoded data removed]",
      "text/plain": [
       "<Figure size 1000x600 with 1 Axes>"
      ]
     },
     "metadata": {},
     "output_type": "display_data"
    }
   ],
   "source": [
    "# Set the style for better visualization\n",
    "sns.set(style=\"whitegrid\")\n",
    "\n",
    "# Create a histogram of engagement scores\n",
    "plt.figure(figsize=(10, 6))\n",
    "sns.histplot(agg_data['Engagement_Score'], bins=30, kde=True, color='skyblue')\n",
    "\n",
    "# Set plot labels and title\n",
    "plt.xlabel('Engagement Score')\n",
    "plt.ylabel('Frequency')\n",
    "plt.title('Distribution of Engagement Scores')\n",
    "\n",
    "# Display the plot\n",
    "plt.show()\n"
   ]
  },
  {
   "cell_type": "markdown",
   "metadata": {},
   "source": [
    "This is what we call left skewed, which suggests that there are fewer users with lower experience score, while a significant proportion of users has higher experience scores."
   ]
  },
  {
   "cell_type": "code",
   "execution_count": null,
   "metadata": {},
   "outputs": [],
   "source": []
  }
 ],
 "metadata": {
  "kernelspec": {
   "display_name": "base",
   "language": "python",
   "name": "python3"
  },
  "language_info": {
   "codemirror_mode": {
    "name": "ipython",
    "version": 3
   },
   "file_extension": ".py",
   "mimetype": "text/x-python",
   "name": "python",
   "nbconvert_exporter": "python",
   "pygments_lexer": "ipython3",
   "version": "3.11.5"
  }
 },
 "nbformat": 4,
 "nbformat_minor": 2
}
